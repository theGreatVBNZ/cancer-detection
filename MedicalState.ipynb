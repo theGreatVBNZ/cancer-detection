{
 "cells": [
  {
   "cell_type": "markdown",
   "metadata": {},
   "source": [
    "### Задача минимум: по карте пациента выяснить результат лечения\n",
    "Загружаем необходимые библиотеки"
   ]
  },
  {
   "cell_type": "code",
   "execution_count": 1,
   "metadata": {},
   "outputs": [],
   "source": [
    "import os\n",
    "import re\n",
    "\n",
    "import pymorphy2"
   ]
  },
  {
   "cell_type": "markdown",
   "metadata": {},
   "source": [
    "Функция удаляет из текста переходы на новую строку, лишние пробелы и приводит слова к нижнему регистру"
   ]
  },
  {
   "cell_type": "code",
   "execution_count": 2,
   "metadata": {},
   "outputs": [],
   "source": [
    "def format_text(text):\n",
    "    text = (\n",
    "        text\n",
    "        .replace('\\n', '')\n",
    "        .lower()\n",
    "        .strip()\n",
    "    )\n",
    "    text = re.sub(' +', ' ', text)\n",
    "    return text"
   ]
  },
  {
   "cell_type": "markdown",
   "metadata": {},
   "source": [
    "Функция удаляет из слова цифры и специальные символы"
   ]
  },
  {
   "cell_type": "code",
   "execution_count": 3,
   "metadata": {},
   "outputs": [],
   "source": [
    "def format_word(word):\n",
    "    word = re.sub('[\\W\\d]', '', word)\n",
    "    return word"
   ]
  },
  {
   "cell_type": "markdown",
   "metadata": {},
   "source": [
    "Функция приводит слово к начальной форме"
   ]
  },
  {
   "cell_type": "code",
   "execution_count": 4,
   "metadata": {},
   "outputs": [],
   "source": [
    "morph = pymorphy2.MorphAnalyzer()\n",
    "def normalize(word):\n",
    "    normal_form = morph.parse(word)[0].normal_form\n",
    "    return normal_form"
   ]
  },
  {
   "cell_type": "markdown",
   "metadata": {},
   "source": [
    "Функция реализует мешок слов"
   ]
  },
  {
   "cell_type": "code",
   "execution_count": 5,
   "metadata": {},
   "outputs": [],
   "source": [
    "def count_words(text):\n",
    "    words_counter = {}\n",
    "    for word in text.split(' '):\n",
    "        word = format_word(word)\n",
    "        if not word:\n",
    "            continue\n",
    "        word = normalize(word)\n",
    "        if word in words_counter:\n",
    "            words_counter[word] += 1\n",
    "        else:\n",
    "            words_counter[word] = 1\n",
    "    return words_counter"
   ]
  },
  {
   "cell_type": "markdown",
   "metadata": {},
   "source": [
    "Загружаем текстовый документ. В папке '1' содержится пример, где пациент умер, в '2' - пациент выжил"
   ]
  },
  {
   "cell_type": "code",
   "execution_count": 6,
   "metadata": {},
   "outputs": [],
   "source": [
    "# path = os.path.join(os.path.abspath('sample from 57'), '1', 'Новый текстовый документ.txt')\n",
    "path = os.path.join(os.path.abspath('sample from 57'), '2', 'Новый текстовый документ.txt')\n",
    "with open(path, 'r', encoding='cp1251') as txt_file:\n",
    "    doc = txt_file.read()"
   ]
  },
  {
   "cell_type": "markdown",
   "metadata": {},
   "source": [
    "Тексты в предложенных карточках разделены на абзацы, для выяснения результата лечения необходимо найти абзац, который начинается со слов \"Состояние при выписке\", либо \"Дальнейшее течение заболевания\""
   ]
  },
  {
   "cell_type": "code",
   "execution_count": 7,
   "metadata": {},
   "outputs": [],
   "source": [
    "paragraphs = re.split('\\n.\\n', doc)"
   ]
  },
  {
   "cell_type": "code",
   "execution_count": 8,
   "metadata": {},
   "outputs": [
    {
     "name": "stdout",
     "output_type": "stream",
     "text": [
      "состояние при выписке удовлетворительное 1- е сутки после повторного нейролизиса чревного сплетения. состояние больного стабильное. тошноты рвоты нет. болевой синдром купирован. т – 36.6 с. чд – 18 в мин. пульс – 76 в мин. ад – 110/80 мм.рт.ст. язык влажный. живот не вздут мягкий, слегка болезненный в правом подребрье. перитониальных симптомов нет. физ.отправления без особенностей. закл.: течение послеоперационного периода без особенностей. проводилась симптоматическая антибактериальная терапия ,реабилитация больной. выписывается из стационара под наблюдение онколога поликлиники..\n"
     ]
    }
   ],
   "source": [
    "bag_of_words = {}\n",
    "for paragraph in paragraphs:\n",
    "    if (paragraph.find('Состояние при выписке') > 0 or \n",
    "            paragraph.find('Дальнейшее течение заболевания') > 0):\n",
    "        paragraph = format_text(paragraph)\n",
    "        bag_of_words = count_words(paragraph)\n",
    "        print(paragraph)\n",
    "        break"
   ]
  },
  {
   "cell_type": "markdown",
   "metadata": {},
   "source": [
    "Здесь мешок слов выводится в виде pandas.DataFrame() исключительно ради экономии места в тетрадке"
   ]
  },
  {
   "cell_type": "code",
   "execution_count": 9,
   "metadata": {
    "scrolled": true
   },
   "outputs": [
    {
     "data": {
      "text/html": [
       "<div>\n",
       "<style scoped>\n",
       "    .dataframe tbody tr th:only-of-type {\n",
       "        vertical-align: middle;\n",
       "    }\n",
       "\n",
       "    .dataframe tbody tr th {\n",
       "        vertical-align: top;\n",
       "    }\n",
       "\n",
       "    .dataframe thead th {\n",
       "        text-align: right;\n",
       "    }\n",
       "</style>\n",
       "<table border=\"1\" class=\"dataframe\">\n",
       "  <thead>\n",
       "    <tr style=\"text-align: right;\">\n",
       "      <th></th>\n",
       "      <th>ада</th>\n",
       "      <th>антибактериальный</th>\n",
       "      <th>без</th>\n",
       "      <th>болевой</th>\n",
       "      <th>болезненный</th>\n",
       "      <th>больной</th>\n",
       "      <th>в</th>\n",
       "      <th>вздутый</th>\n",
       "      <th>влажный</th>\n",
       "      <th>выписка</th>\n",
       "      <th>...</th>\n",
       "      <th>сутки</th>\n",
       "      <th>терапия</th>\n",
       "      <th>течение</th>\n",
       "      <th>том</th>\n",
       "      <th>тошнота</th>\n",
       "      <th>удовлетворительный</th>\n",
       "      <th>физотправление</th>\n",
       "      <th>чд</th>\n",
       "      <th>чревный</th>\n",
       "      <th>язык</th>\n",
       "    </tr>\n",
       "  </thead>\n",
       "  <tbody>\n",
       "    <tr>\n",
       "      <th>0</th>\n",
       "      <td>1</td>\n",
       "      <td>1</td>\n",
       "      <td>2</td>\n",
       "      <td>1</td>\n",
       "      <td>1</td>\n",
       "      <td>2</td>\n",
       "      <td>3</td>\n",
       "      <td>1</td>\n",
       "      <td>1</td>\n",
       "      <td>1</td>\n",
       "      <td>...</td>\n",
       "      <td>1</td>\n",
       "      <td>1</td>\n",
       "      <td>1</td>\n",
       "      <td>1</td>\n",
       "      <td>1</td>\n",
       "      <td>1</td>\n",
       "      <td>1</td>\n",
       "      <td>1</td>\n",
       "      <td>1</td>\n",
       "      <td>1</td>\n",
       "    </tr>\n",
       "  </tbody>\n",
       "</table>\n",
       "<p>1 rows × 58 columns</p>\n",
       "</div>"
      ],
      "text/plain": [
       "   ада  антибактериальный  без  болевой  болезненный  больной  в  вздутый  \\\n",
       "0    1                  1    2        1            1        2  3        1   \n",
       "\n",
       "   влажный  выписка  ...   сутки  терапия  течение  том  тошнота  \\\n",
       "0        1        1  ...       1        1        1    1        1   \n",
       "\n",
       "   удовлетворительный  физотправление  чд  чревный  язык  \n",
       "0                   1               1   1        1     1  \n",
       "\n",
       "[1 rows x 58 columns]"
      ]
     },
     "execution_count": 9,
     "metadata": {},
     "output_type": "execute_result"
    }
   ],
   "source": [
    "import pandas as pd\n",
    "pd.DataFrame(pd.Series(bag_of_words)).T"
   ]
  },
  {
   "cell_type": "markdown",
   "metadata": {},
   "source": [
    "Наивно прикинем результаты лечения"
   ]
  },
  {
   "cell_type": "code",
   "execution_count": 10,
   "metadata": {},
   "outputs": [
    {
     "name": "stdout",
     "output_type": "stream",
     "text": [
      "Вероятно, лечение оказало положительный результат\n"
     ]
    }
   ],
   "source": [
    "positive_state = False\n",
    "negative_state = False\n",
    "if [word for word in ('выписка', 'выписываться', 'удовлетворительный') if word in bag_of_words]:\n",
    "    positive_state = True\n",
    "if [word for word in ('смерть', 'реанимация') if word in bag_of_words]:\n",
    "    negative_state = True\n",
    "    \n",
    "if positive_state and negative_state:\n",
    "    print('Необходим дополнительный анализ')\n",
    "elif positive_state:\n",
    "    print('Вероятно, лечение оказало положительный результат')\n",
    "elif negative_state:\n",
    "    print('Вероятно, лечение оказало негативный результат')"
   ]
  }
 ],
 "metadata": {
  "kernelspec": {
   "display_name": "Python 3",
   "language": "python",
   "name": "python3"
  },
  "language_info": {
   "codemirror_mode": {
    "name": "ipython",
    "version": 3
   },
   "file_extension": ".py",
   "mimetype": "text/x-python",
   "name": "python",
   "nbconvert_exporter": "python",
   "pygments_lexer": "ipython3",
   "version": "3.6.3"
  }
 },
 "nbformat": 4,
 "nbformat_minor": 2
}
